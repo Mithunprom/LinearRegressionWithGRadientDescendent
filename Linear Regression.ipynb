{
 "cells": [
  {
   "cell_type": "markdown",
   "metadata": {},
   "source": [
    "This notebook is for creating a simple linear regression and finding it's parameter by gradient optimizer."
   ]
  },
  {
   "cell_type": "markdown",
   "metadata": {},
   "source": [
    "Let's create the simple simulated dataset first. We will create a high dimesnional feature related dataset from scipy"
   ]
  },
  {
   "cell_type": "code",
   "execution_count": 131,
   "metadata": {},
   "outputs": [],
   "source": [
    "from sklearn.datasets import make_regression\n",
    "from sklearn.metrics import mean_squared_error\n",
    "from scipy.optimize import minimize \n",
    "import matplotlib.pyplot as plt\n",
    "X,y=make_regression(n_samples=100, n_features=20,\n",
    "                                 n_informative=15, n_targets=1, bias=0.0, \n",
    "                                 effective_rank=None, tail_strength=0.5, \n",
    "                                 noise=0.01, shuffle=True, coef=False, random_state=42)"
   ]
  },
  {
   "cell_type": "markdown",
   "metadata": {},
   "source": [
    "Let's splite the dataset into test and train points."
   ]
  },
  {
   "cell_type": "code",
   "execution_count": 132,
   "metadata": {},
   "outputs": [],
   "source": [
    "from sklearn.model_selection import train_test_split\n",
    "X_train,X_test,y_train,y_test=train_test_split(X, y,test_size=.2,random_state=42) "
   ]
  },
  {
   "cell_type": "markdown",
   "metadata": {},
   "source": [
    "Now, let's create the loss function. For the $D=(X,y)$, where $X\\in \\Re^K$ the linear prediction function is:\n",
    "$$f(X)=\\alpha+\\sum_{j=1}^K \\beta_jX_j$$\n",
    "\n",
    "$\\alpha$ represents the intercept whereas $\\beta$ represents the slopes of the linear equation. We can find these coeeficients from minimizing the loss function. The Square error loss is taken in this case, which is:\n",
    "$$J(\\theta)=\\frac{1}{2N}\\sum_i^N(y^i-f(X^i))^2,$$\n",
    "\n",
    "where $\\theta=(\\alpha,\\beta)$. $i=1,...,N$ represents the index of the data and $j=1,...,K$ represents the index of the features. We can minimize this loss fuction with respect to these coeeficients and get these values which is known as using normal equation. But, for some cases it causes numerical issues if there is some kind of dependency in between $X$'s. We will use gradient descendent method to update these parameters value. The gradient update formula's are:\n",
    "\n",
    "$$\\theta_j:=\\theta_j-\\frac{\\alpha}{N}\\sum_i^N(y^i-f(X^i))X_j$$\n",
    "\n",
    "$\\alpha$ here represents the learning rate. \n"
   ]
  },
  {
   "cell_type": "code",
   "execution_count": 133,
   "metadata": {},
   "outputs": [],
   "source": [
    "def linearPredictor(params,features):\n",
    "    return features.dot(params)\n",
    "def lossfunction(params,features,target):\n",
    "    m=features.shape[1]\n",
    "    return 1/(2*m)*np.sum((target-linearPredictor(params,features))**2)\n",
    "def gradientupdate(params,features,target):\n",
    "    m=features.shape[1]\n",
    "    gr=[0 for _ in range(m)]    \n",
    "    for i in range(m):\n",
    "        gr[i]=(linearPredictor(params,features)-target).dot(features[:,i])\n",
    "    return np.array(gr)"
   ]
  },
  {
   "cell_type": "markdown",
   "metadata": {},
   "source": [
    "For the convergence criteria, we can use a fixed number of large iteration. But if the improvement in loss is not sufficent, we will make the iteration stop by force as it is already converged.Thus, convergence criteria is:\n",
    "$$|J(\\theta_2)-J(\\theta_1)|\\leq10^{-20}$$"
   ]
  },
  {
   "cell_type": "code",
   "execution_count": 134,
   "metadata": {},
   "outputs": [],
   "source": [
    "import numpy as np\n",
    "#using gradient desencedent method\n",
    "def opt1(params,features,target,lr=.01,iter=1000000):\n",
    "    m=features.shape[1]\n",
    "    iteration=0\n",
    "    loss1=1e10\n",
    "    L=[]\n",
    "    while iteration<iter:\n",
    "        for i in range(len(params)):\n",
    "            params[i]=params[i]-lr/m*gradientupdate(params,features,target)[i]\n",
    "            loss=lossfunction(params,features,target)\n",
    "            L.append(loss)\n",
    "            #print(loss)\n",
    "            if abs(loss1-loss)<1e-20:\n",
    "                return params,L\n",
    "            loss1=loss\n",
    "            iteration+=1\n",
    "    return params,L"
   ]
  },
  {
   "cell_type": "markdown",
   "metadata": {},
   "source": [
    "we want to compare gradient descendent results with the scipy build in optimizer."
   ]
  },
  {
   "cell_type": "code",
   "execution_count": 135,
   "metadata": {},
   "outputs": [],
   "source": [
    "#using scipy optimizer\n",
    "def opt2(params,features,target):\n",
    "    updated_params=minimize(fun=lossfunction,x0=params,jac=gradientupdate,args=(features,target)\n",
    "                            ,method='BFGS',options={'maxiter':1000,'disp': True})\n",
    "    return updated_params.fun,updated_params.x "
   ]
  },
  {
   "cell_type": "markdown",
   "metadata": {},
   "source": [
    "If we run the GD optimizer and plot the loss fuction at different iteration, we can see that it decrease very fast and at aroun 2000\n",
    "iteration it achieves close to zero loss. Also the Root mean square value for this model on test function is=0.000216"
   ]
  },
  {
   "cell_type": "code",
   "execution_count": 136,
   "metadata": {},
   "outputs": [
    {
     "name": "stdout",
     "output_type": "stream",
     "text": [
      "0.0002162270680101928\n"
     ]
    },
    {
     "data": {
      "text/plain": [
       "Text(0, 0.5, 'Loss')"
      ]
     },
     "execution_count": 136,
     "metadata": {},
     "output_type": "execute_result"
    },
    {
     "data": {
      "image/png": "[encoded data removed]",
      "text/plain": [
       "<Figure size 432x288 with 1 Axes>"
      ]
     },
     "metadata": {
      "needs_background": "light"
     },
     "output_type": "display_data"
    }
   ],
   "source": [
    "params=[1.0 for i in range(X_train.shape[1])]\n",
    "updated_params,Loss=opt1(np.array(params),X_train,y_train)\n",
    "pred=linearPredictor( updated_params,X_test)\n",
    "\n",
    "print(mean_squared_error(pred,y_test))\n",
    "\n",
    "plt.plot(range(0,len(Loss)),Loss)\n",
    "plt.xlabel('Number of Iteration')\n",
    "plt.ylabel('Loss')"
   ]
  },
  {
   "cell_type": "code",
   "execution_count": 137,
   "metadata": {},
   "outputs": [],
   "source": [
    "iteration=[1e1,1e2,1e3,1e4,1e5,1e6,1e7,1e8,1e9,1e10]\n",
    "LLoss=[]\n",
    "ACC=[]\n",
    "for i in range(len(iteration)):\n",
    "    updated_params,Loss=opt1(np.array(params),X_train,y_train,iter=iteration[i])\n",
    "    LLoss.append(Loss)\n",
    "    pred=linearPredictor( updated_params,X_test)\n",
    "    ACC.append(mean_squared_error(pred,y_test))\n",
    "minLoss=[LLoss[i][-1] for i in range(len(iteration))]\n"
   ]
  },
  {
   "cell_type": "code",
   "execution_count": 138,
   "metadata": {},
   "outputs": [],
   "source": [
    "#plt.boxplot(LLoss)\n"
   ]
  },
  {
   "cell_type": "markdown",
   "metadata": {},
   "source": [
    "Also,the following RMSE plot is generated at different number of fixed iteration as a convergence criteria in order to estimate the coeeficients.\n",
    "we can see that, if we did not provide enough number of iteration, the model performance will be worse whereas giving more iterations then needed is also waste of time."
   ]
  },
  {
   "cell_type": "code",
   "execution_count": 139,
   "metadata": {},
   "outputs": [
    {
     "data": {
      "text/plain": [
       "Text(0, 0.5, 'RMSE value')"
      ]
     },
     "execution_count": 139,
     "metadata": {},
     "output_type": "execute_result"
    },
    {
     "data": {
      "image/png": "[encoded data removed]",
      "text/plain": [
       "<Figure size 432x288 with 1 Axes>"
      ]
     },
     "metadata": {
      "needs_background": "light"
     },
     "output_type": "display_data"
    }
   ],
   "source": [
    "plt.plot(ACC)\n",
    "plt.xlabel('Number of Iteration')\n",
    "plt.ylabel('RMSE value')"
   ]
  },
  {
   "cell_type": "markdown",
   "metadata": {},
   "source": [
    "Now lets use the scipy built in optimizer to ensure that our model is consistant. We can see from the RMSE value in the test data that for both estimation procedure, the RMSE is very close."
   ]
  },
  {
   "cell_type": "code",
   "execution_count": 140,
   "metadata": {},
   "outputs": [
    {
     "name": "stdout",
     "output_type": "stream",
     "text": [
      "Optimization terminated successfully.\n",
      "         Current function value: 0.000122\n",
      "         Iterations: 84\n",
      "         Function evaluations: 191\n",
      "         Gradient evaluations: 191\n",
      "0.00021623050127356994\n"
     ]
    }
   ],
   "source": [
    "    \n",
    "params=[1.0 for i in range(X_train.shape[1])]\n",
    "obj,updated_params=opt2(np.array(params),X_train,y_train)\n",
    "pred=linearPredictor( updated_params,X_test)\n",
    "\n",
    "print(mean_squared_error(pred,y_test))"
   ]
  },
  {
   "cell_type": "code",
   "execution_count": null,
   "metadata": {},
   "outputs": [],
   "source": []
  }
 ],
 "metadata": {
  "@webio": {
   "lastCommId": null,
   "lastKernelId": null
  },
  "kernelspec": {
   "display_name": "Python 3",
   "language": "python",
   "name": "python3"
  },
  "language_info": {
   "codemirror_mode": {
    "name": "ipython",
    "version": 3
   },
   "file_extension": ".py",
   "mimetype": "text/x-python",
   "name": "python",
   "nbconvert_exporter": "python",
   "pygments_lexer": "ipython3",
   "version": "3.7.4"
  }
 },
 "nbformat": 4,
 "nbformat_minor": 4
}
